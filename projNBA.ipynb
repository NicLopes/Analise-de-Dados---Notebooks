{
  "nbformat": 4,
  "nbformat_minor": 0,
  "metadata": {
    "colab": {
      "provenance": [],
      "authorship_tag": "ABX9TyM2yjF8F3TjzyBBisLil+cZ",
      "include_colab_link": true
    },
    "kernelspec": {
      "name": "python3",
      "display_name": "Python 3"
    },
    "language_info": {
      "name": "python"
    }
  },
  "cells": [
    {
      "cell_type": "markdown",
      "metadata": {
        "id": "view-in-github",
        "colab_type": "text"
      },
      "source": [
        "<a href=\"https://colab.research.google.com/github/NicLopes/Analise-de-Dados---Notebooks/blob/main/projNBA.ipynb\" target=\"_parent\"><img src=\"https://colab.research.google.com/assets/colab-badge.svg\" alt=\"Open In Colab\"/></a>"
      ]
    },
    {
      "cell_type": "markdown",
      "source": [
        "# Importação de Bibliotecas e DataFrame\n",
        "\n"
      ],
      "metadata": {
        "id": "nmcWmMXo46bx"
      }
    },
    {
      "cell_type": "code",
      "execution_count": null,
      "metadata": {
        "id": "Rg4r1Mc8zQ2C"
      },
      "outputs": [],
      "source": [
        "import pandas as pd"
      ]
    },
    {
      "cell_type": "code",
      "source": [
        "df = pd.read_csv(\"/content/all_seasons.csv\")\n",
        "df.head()\n",
        "df.tail()#rodapé\n",
        "df.dtypes"
      ],
      "metadata": {
        "id": "UkLXzLJA3kjU"
      },
      "execution_count": null,
      "outputs": []
    },
    {
      "cell_type": "markdown",
      "source": [
        "# Limpeza de Dados"
      ],
      "metadata": {
        "id": "IBNqGgqq8WtZ"
      }
    },
    {
      "cell_type": "code",
      "source": [
        "df['player_height'] = df['player_height'].apply(lambda x: round(x, 1))\n",
        "df['player_weight'] = df['player_weight'].apply(lambda x: round(x, 1))\n",
        "df['age'] = df['age'].round()\n",
        "df['age'] = df['age'].astype(int)\n",
        "\n",
        "print(df)"
      ],
      "metadata": {
        "id": "5aY3i77C8c3R"
      },
      "execution_count": null,
      "outputs": []
    },
    {
      "cell_type": "code",
      "source": [
        "df['player_draft'] = df['draft_round']\n",
        "\n"
      ],
      "metadata": {
        "id": "xM14G8S-Ckzx"
      },
      "execution_count": null,
      "outputs": []
    },
    {
      "cell_type": "code",
      "source": [
        "df.loc[df['player_draft'] !='Undrafted','player_draft'] = 'Drafted'\n",
        "print(df)"
      ],
      "metadata": {
        "id": "-Q81bLxcR0Kq"
      },
      "execution_count": null,
      "outputs": []
    },
    {
      "cell_type": "markdown",
      "source": [
        "# Analise do DataFrame"
      ],
      "metadata": {
        "id": "kT2X8I345iQA"
      }
    },
    {
      "cell_type": "markdown",
      "source": [
        "Objetivos\n",
        "\n",
        "\n",
        "*   Ranking dos jogadores que mais pontuaram\n",
        "*   Ranking dos jogadores que mais pontuaram que não foram draftados(undrafted)\n",
        "*   Ranking dos jogadores que menos pontuaram que  foram draftados(drafted)\n",
        "*   Contagem de jogadores acima do peso com base em IMC\n",
        "\n",
        "\n",
        "\n",
        "\n"
      ],
      "metadata": {
        "id": "dE-IlFFc5xBz"
      }
    },
    {
      "cell_type": "code",
      "source": [
        "df_pts = df.sort_values(by='pts', ascending=False)\n",
        "print(df_pts)"
      ],
      "metadata": {
        "id": "9XhlM6Nk8Jbz"
      },
      "execution_count": null,
      "outputs": []
    },
    {
      "cell_type": "code",
      "source": [
        "unPlayers = df[df['player_draft'] == 'Undrafted']\n",
        "\n",
        "unPts = unPlayers.sort_values(by = 'pts', ascending=False)\n",
        "print(unPts[['player_name','pts','player_draft']])"
      ],
      "metadata": {
        "id": "-LNarladB-1u"
      },
      "execution_count": null,
      "outputs": []
    },
    {
      "cell_type": "code",
      "source": [
        "dPlayers = df[df['player_draft']== 'Drafted']\n",
        "\n",
        "dPts = dPlayers.sort_values(by='pts', ascending=True )\n",
        "print(dPts[['player_name','pts','player_draft']])"
      ],
      "metadata": {
        "id": "l6YdZEXwV1-Q"
      },
      "execution_count": null,
      "outputs": []
    },
    {
      "cell_type": "code",
      "source": [
        "df['imc'] = df['player_weight']/((df['player_height']/100)*(df['player_height']/100))\n"
      ],
      "metadata": {
        "id": "2VxjeUM4aKps"
      },
      "execution_count": null,
      "outputs": []
    },
    {
      "cell_type": "code",
      "source": [
        "df.loc[df['imc'] < 16, 'classificacao'] = 'magreza grave'\n",
        "df.loc[(df['imc'] > 16) & (df['imc'] < 18.5), 'classificacao'] = 'magreza'\n",
        "df.loc[(df['imc'] >= 18.5) & (df['imc'] <= 24.9), 'classificacao'] = 'peso ideal'\n",
        "df.loc[(df['imc'] > 24.9) & (df['imc'] <= 29.9), 'classificacao'] = 'sobrepeso'\n",
        "df.loc[(df['imc'] > 29.9) & (df['imc'] <= 34.9), 'classificacao'] = 'obesidade'\n"
      ],
      "metadata": {
        "id": "ijK7BBPSdjeE"
      },
      "execution_count": null,
      "outputs": []
    },
    {
      "cell_type": "code",
      "source": [
        "\n",
        "print(df[['player_name','imc', 'classificacao']])"
      ],
      "metadata": {
        "id": "2Aoae9J8evXZ"
      },
      "execution_count": null,
      "outputs": []
    }
  ]
}